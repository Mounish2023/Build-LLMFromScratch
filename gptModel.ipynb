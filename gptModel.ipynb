{
  "cells": [
    {
      "cell_type": "markdown",
      "metadata": {
        "id": "view-in-github",
        "colab_type": "text"
      },
      "source": [
        "<a href=\"https://colab.research.google.com/github/Mounish2023/Build-LLMFromScratch/blob/main/gptModel.ipynb\" target=\"_parent\"><img src=\"https://colab.research.google.com/assets/colab-badge.svg\" alt=\"Open In Colab\"/></a>"
      ]
    },
    {
      "cell_type": "code",
      "execution_count": null,
      "metadata": {
        "colab": {
          "base_uri": "https://localhost:8080/"
        },
        "id": "_34vVmacZoUc",
        "outputId": "d2245bac-2158-4437-c731-e8dece979002"
      },
      "outputs": [
        {
          "output_type": "stream",
          "name": "stdout",
          "text": [
            "\u001b[?25l   \u001b[90m━━━━━━━━━━━━━━━━━━━━━━━━━━━━━━━━━━━━━━━━\u001b[0m \u001b[32m0.0/491.2 kB\u001b[0m \u001b[31m?\u001b[0m eta \u001b[36m-:--:--\u001b[0m\r\u001b[2K   \u001b[90m━━━━━━━━━━━━━━━━━━━━━━━━━━━━━━━━━━━━━━━━\u001b[0m \u001b[32m491.2/491.2 kB\u001b[0m \u001b[31m20.9 MB/s\u001b[0m eta \u001b[36m0:00:00\u001b[0m\n",
            "\u001b[?25h\u001b[?25l   \u001b[90m━━━━━━━━━━━━━━━━━━━━━━━━━━━━━━━━━━━━━━━━\u001b[0m \u001b[32m0.0/1.2 MB\u001b[0m \u001b[31m?\u001b[0m eta \u001b[36m-:--:--\u001b[0m\r\u001b[2K   \u001b[91m━━━━━━━━━━━━━━━━━━━━━━━━━━━━━━━━━━━━━━━\u001b[0m\u001b[91m╸\u001b[0m \u001b[32m1.2/1.2 MB\u001b[0m \u001b[31m58.7 MB/s\u001b[0m eta \u001b[36m0:00:01\u001b[0m\r\u001b[2K   \u001b[90m━━━━━━━━━━━━━━━━━━━━━━━━━━━━━━━━━━━━━━━━\u001b[0m \u001b[32m1.2/1.2 MB\u001b[0m \u001b[31m25.4 MB/s\u001b[0m eta \u001b[36m0:00:00\u001b[0m\n",
            "\u001b[?25h\u001b[?25l   \u001b[90m━━━━━━━━━━━━━━━━━━━━━━━━━━━━━━━━━━━━━━━━\u001b[0m \u001b[32m0.0/116.3 kB\u001b[0m \u001b[31m?\u001b[0m eta \u001b[36m-:--:--\u001b[0m\r\u001b[2K   \u001b[90m━━━━━━━━━━━━━━━━━━━━━━━━━━━━━━━━━━━━━━━━\u001b[0m \u001b[32m116.3/116.3 kB\u001b[0m \u001b[31m9.2 MB/s\u001b[0m eta \u001b[36m0:00:00\u001b[0m\n",
            "\u001b[?25h\u001b[?25l   \u001b[90m━━━━━━━━━━━━━━━━━━━━━━━━━━━━━━━━━━━━━━━━\u001b[0m \u001b[32m0.0/183.9 kB\u001b[0m \u001b[31m?\u001b[0m eta \u001b[36m-:--:--\u001b[0m\r\u001b[2K   \u001b[90m━━━━━━━━━━━━━━━━━━━━━━━━━━━━━━━━━━━━━━━━\u001b[0m \u001b[32m183.9/183.9 kB\u001b[0m \u001b[31m13.8 MB/s\u001b[0m eta \u001b[36m0:00:00\u001b[0m\n",
            "\u001b[2K   \u001b[90m━━━━━━━━━━━━━━━━━━━━━━━━━━━━━━━━━━━━━━━━\u001b[0m \u001b[32m143.5/143.5 kB\u001b[0m \u001b[31m12.3 MB/s\u001b[0m eta \u001b[36m0:00:00\u001b[0m\n",
            "\u001b[2K   \u001b[90m━━━━━━━━━━━━━━━━━━━━━━━━━━━━━━━━━━━━━━━━\u001b[0m \u001b[32m194.8/194.8 kB\u001b[0m \u001b[31m16.7 MB/s\u001b[0m eta \u001b[36m0:00:00\u001b[0m\n",
            "\u001b[?25h\u001b[31mERROR: pip's dependency resolver does not currently take into account all the packages that are installed. This behaviour is the source of the following dependency conflicts.\n",
            "gcsfs 2025.3.2 requires fsspec==2025.3.2, but you have fsspec 2024.12.0 which is incompatible.\n",
            "torch 2.6.0+cu124 requires nvidia-cublas-cu12==12.4.5.8; platform_system == \"Linux\" and platform_machine == \"x86_64\", but you have nvidia-cublas-cu12 12.5.3.2 which is incompatible.\n",
            "torch 2.6.0+cu124 requires nvidia-cuda-cupti-cu12==12.4.127; platform_system == \"Linux\" and platform_machine == \"x86_64\", but you have nvidia-cuda-cupti-cu12 12.5.82 which is incompatible.\n",
            "torch 2.6.0+cu124 requires nvidia-cuda-nvrtc-cu12==12.4.127; platform_system == \"Linux\" and platform_machine == \"x86_64\", but you have nvidia-cuda-nvrtc-cu12 12.5.82 which is incompatible.\n",
            "torch 2.6.0+cu124 requires nvidia-cuda-runtime-cu12==12.4.127; platform_system == \"Linux\" and platform_machine == \"x86_64\", but you have nvidia-cuda-runtime-cu12 12.5.82 which is incompatible.\n",
            "torch 2.6.0+cu124 requires nvidia-cudnn-cu12==9.1.0.70; platform_system == \"Linux\" and platform_machine == \"x86_64\", but you have nvidia-cudnn-cu12 9.3.0.75 which is incompatible.\n",
            "torch 2.6.0+cu124 requires nvidia-cufft-cu12==11.2.1.3; platform_system == \"Linux\" and platform_machine == \"x86_64\", but you have nvidia-cufft-cu12 11.2.3.61 which is incompatible.\n",
            "torch 2.6.0+cu124 requires nvidia-curand-cu12==10.3.5.147; platform_system == \"Linux\" and platform_machine == \"x86_64\", but you have nvidia-curand-cu12 10.3.6.82 which is incompatible.\n",
            "torch 2.6.0+cu124 requires nvidia-cusolver-cu12==11.6.1.9; platform_system == \"Linux\" and platform_machine == \"x86_64\", but you have nvidia-cusolver-cu12 11.6.3.83 which is incompatible.\n",
            "torch 2.6.0+cu124 requires nvidia-cusparse-cu12==12.3.1.170; platform_system == \"Linux\" and platform_machine == \"x86_64\", but you have nvidia-cusparse-cu12 12.5.1.3 which is incompatible.\n",
            "torch 2.6.0+cu124 requires nvidia-nvjitlink-cu12==12.4.127; platform_system == \"Linux\" and platform_machine == \"x86_64\", but you have nvidia-nvjitlink-cu12 12.5.82 which is incompatible.\u001b[0m\u001b[31m\n",
            "\u001b[0m"
          ]
        }
      ],
      "source": [
        "%pip install datasets tiktoken --quiet"
      ]
    },
    {
      "cell_type": "markdown",
      "source": [
        "# **preprocessing text**"
      ],
      "metadata": {
        "id": "nTa3gDk0l0Ta"
      }
    },
    {
      "cell_type": "code",
      "execution_count": null,
      "metadata": {
        "id": "qzksHyROHQUE"
      },
      "outputs": [],
      "source": [
        "\n",
        "import os\n",
        "import urllib.request\n",
        "\n",
        "if not os.path.exists(\"the-verdict.txt\"):\n",
        "    url = (\"https://raw.githubusercontent.com/rasbt/\"\n",
        "           \"LLMs-from-scratch/main/ch02/01_main-chapter-code/\"\n",
        "           \"the-verdict.txt\")\n",
        "    file_path = \"the-verdict.txt\"\n",
        "    urllib.request.urlretrieve(url, file_path)"
      ]
    },
    {
      "cell_type": "code",
      "execution_count": null,
      "metadata": {
        "colab": {
          "base_uri": "https://localhost:8080/"
        },
        "id": "aO5DlX4PKHX8",
        "outputId": "e966908f-e957-4edd-a0f5-134cb4fa7084"
      },
      "outputs": [
        {
          "output_type": "stream",
          "name": "stdout",
          "text": [
            "Total number of character: 20479\n",
            "I HAD always thought Jack Gisburn rather a cheap genius--though a good fellow enough--so it was no \n"
          ]
        }
      ],
      "source": [
        "with open(\"the-verdict.txt\", \"r\", encoding=\"utf-8\") as f:\n",
        "    raw_text = f.read()\n",
        "\n",
        "print(\"Total number of character:\", len(raw_text))\n",
        "print(raw_text[:99])"
      ]
    },
    {
      "cell_type": "code",
      "execution_count": null,
      "metadata": {
        "id": "vGuv9yTbKNVa"
      },
      "outputs": [],
      "source": [
        "import tiktoken\n",
        "\n",
        "tokenizer = tiktoken.get_encoding(encoding_name='gpt2')\n",
        "\n",
        "token_ids = tokenizer.encode(text=raw_text, allowed_special={'<|endoftext|>'})"
      ]
    },
    {
      "cell_type": "code",
      "execution_count": null,
      "metadata": {
        "colab": {
          "base_uri": "https://localhost:8080/"
        },
        "id": "th3oudbfK1hL",
        "outputId": "ff25b03d-aeab-4d66-af90-8921d967a4d4"
      },
      "outputs": [
        {
          "output_type": "execute_result",
          "data": {
            "text/plain": [
              "5145"
            ]
          },
          "metadata": {},
          "execution_count": 5
        }
      ],
      "source": [
        "len(token_ids)"
      ]
    },
    {
      "cell_type": "code",
      "source": [
        "import torch\n",
        "from torch.utils.data import Dataset, DataLoader\n",
        "\n",
        "class TDatasetV1(Dataset):\n",
        "\n",
        "  def __init__(self, txt, tokenizer, max_length,stride) -> None:\n",
        "\n",
        "    super().__init__()\n",
        "    self.input_ids = []\n",
        "    self.output_ids = []\n",
        "    tokenids = tokenizer.encode(txt)\n",
        "\n",
        "    for i in range(0,len(tokenids)-max_length, stride):\n",
        "      input_chunk = tokenids[i:i+max_length]\n",
        "      output_chunk = tokenids[i+1:i+1+max_length]\n",
        "\n",
        "      self.input_ids.append(torch.tensor(input_chunk))\n",
        "      self.output_ids.append(torch.tensor(output_chunk))\n",
        "\n",
        "    def __len__(self):\n",
        "      return len(self.input_ids)\n",
        "    def __getitem__(self,idx):\n",
        "      return self.input_ids[idx], self.target_ids[idx]\n",
        "\n"
      ],
      "metadata": {
        "id": "nnbJoPLst2e_"
      },
      "execution_count": null,
      "outputs": []
    },
    {
      "cell_type": "code",
      "source": [
        "import torch\n",
        "from torch.utils.data import Dataset, DataLoader\n",
        "\n",
        "class GPTDatasetV1(Dataset):\n",
        "  def __init__(self, txt, tokenizer, max_length, stride):\n",
        "    self.input_ids = []\n",
        "    self.target_ids = []\n",
        "\n",
        "    token_ids = tokenizer.encode(txt)\n",
        "\n",
        "    for i in range(0, len(token_ids)- max_length, stride):\n",
        "      input_chunk = token_ids[i:i+max_length]\n",
        "      target_chunk = token_ids[i+1: i+1+max_length]\n",
        "      self.input_ids.append(torch.tensor(input_chunk))\n",
        "      self.target_ids.append(torch.tensor(target_chunk))\n",
        "\n",
        "  def __len__(self):\n",
        "    return len(self.input_ids)\n",
        "\n",
        "  def __getitem__(self, idx):\n",
        "    return self.input_ids[idx], self.target_ids[idx]\n",
        "\n",
        "\n",
        "\n",
        "\n"
      ],
      "metadata": {
        "id": "Bta6DFwSbuLj"
      },
      "execution_count": null,
      "outputs": []
    },
    {
      "cell_type": "code",
      "execution_count": null,
      "metadata": {
        "id": "UqaSMxa4YkYC"
      },
      "outputs": [],
      "source": [
        "def create_dataloader_v1(raw_text, batch_size=4, max_length=256, stride=128, num_workers=0, shuffle=True, drop_last=True):\n",
        "  tokenizer = tiktoken.get_encoding('gpt2')\n",
        "  dataset = GPTDatasetV1(txt=raw_text, tokenizer=tokenizer, max_length=max_length, stride=stride)\n",
        "\n",
        "  dataloader = DataLoader(\n",
        "      dataset=dataset,\n",
        "      batch_size=batch_size,\n",
        "      drop_last=drop_last,\n",
        "      shuffle=shuffle,\n",
        "      num_workers=num_workers)\n",
        "\n",
        "  return dataloader\n",
        "\n"
      ]
    },
    {
      "cell_type": "code",
      "source": [
        "dataloader = create_dataloader_v1(raw_text=raw_text, batch_size=1, max_length=4, stride=1, shuffle=False)\n",
        "dataloader_iterator = iter(dataloader)\n",
        "first_batch = next(dataloader_iterator)\n",
        "print(first_batch)"
      ],
      "metadata": {
        "colab": {
          "base_uri": "https://localhost:8080/"
        },
        "id": "F8YmdciOVqmG",
        "outputId": "ba0f2658-bcf9-4b29-e3d8-7374cc64f8bd"
      },
      "execution_count": null,
      "outputs": [
        {
          "output_type": "stream",
          "name": "stdout",
          "text": [
            "[tensor([[  40,  367, 2885, 1464]]), tensor([[ 367, 2885, 1464, 1807]])]\n"
          ]
        }
      ]
    },
    {
      "cell_type": "code",
      "source": [
        "second_batch = next(dataloader_iterator)\n",
        "print(second_batch)"
      ],
      "metadata": {
        "colab": {
          "base_uri": "https://localhost:8080/"
        },
        "id": "5-1n1OX4Wknk",
        "outputId": "e07ffab9-cde5-4045-bf13-2ae6baea1a6c"
      },
      "execution_count": null,
      "outputs": [
        {
          "output_type": "stream",
          "name": "stdout",
          "text": [
            "[tensor([[ 367, 2885, 1464, 1807]]), tensor([[2885, 1464, 1807, 3619]])]\n"
          ]
        }
      ]
    },
    {
      "cell_type": "code",
      "source": [
        "dataloader = create_dataloader_v1(raw_text=raw_text, batch_size=8, max_length=4, stride=4, shuffle=False)\n",
        "dataloader_iterator = iter(dataloader)\n",
        "inputs, targets = next(dataloader_iterator)\n",
        "print(f'inputs - {inputs}')\n",
        "print(f'targets - {targets}')"
      ],
      "metadata": {
        "colab": {
          "base_uri": "https://localhost:8080/"
        },
        "id": "Im72TcpFXBv_",
        "outputId": "35a41cca-842b-414d-c896-ad6b5e4c6fc3"
      },
      "execution_count": null,
      "outputs": [
        {
          "output_type": "stream",
          "name": "stdout",
          "text": [
            "inputs - tensor([[   40,   367,  2885,  1464],\n",
            "        [ 1807,  3619,   402,   271],\n",
            "        [10899,  2138,   257,  7026],\n",
            "        [15632,   438,  2016,   257],\n",
            "        [  922,  5891,  1576,   438],\n",
            "        [  568,   340,   373,   645],\n",
            "        [ 1049,  5975,   284,   502],\n",
            "        [  284,  3285,   326,    11]])\n",
            "targets - tensor([[  367,  2885,  1464,  1807],\n",
            "        [ 3619,   402,   271, 10899],\n",
            "        [ 2138,   257,  7026, 15632],\n",
            "        [  438,  2016,   257,   922],\n",
            "        [ 5891,  1576,   438,   568],\n",
            "        [  340,   373,   645,  1049],\n",
            "        [ 5975,   284,   502,   284],\n",
            "        [ 3285,   326,    11,   287]])\n"
          ]
        }
      ]
    },
    {
      "cell_type": "code",
      "source": [
        "import torch\n",
        "torch.__version__"
      ],
      "metadata": {
        "colab": {
          "base_uri": "https://localhost:8080/",
          "height": 35
        },
        "id": "B8Ymzbq2Yhwh",
        "outputId": "8700736d-1d83-4f7b-91f7-4247949e64c0"
      },
      "execution_count": null,
      "outputs": [
        {
          "output_type": "execute_result",
          "data": {
            "text/plain": [
              "'2.6.0+cu124'"
            ],
            "application/vnd.google.colaboratory.intrinsic+json": {
              "type": "string"
            }
          },
          "metadata": {},
          "execution_count": 14
        }
      ]
    },
    {
      "cell_type": "code",
      "source": [
        "torch.cuda.is_available()"
      ],
      "metadata": {
        "colab": {
          "base_uri": "https://localhost:8080/"
        },
        "id": "ydVAVM3VdrO7",
        "outputId": "c23899a7-0b74-4af6-c457-ac7c7e86ccf1"
      },
      "execution_count": null,
      "outputs": [
        {
          "output_type": "execute_result",
          "data": {
            "text/plain": [
              "True"
            ]
          },
          "metadata": {},
          "execution_count": 15
        }
      ]
    },
    {
      "cell_type": "code",
      "source": [
        "vocab_size = tokenizer.n_vocab\n",
        "output_dim = 256\n",
        "\n",
        "\n",
        "token_embedding_layer = torch.nn.Embedding(vocab_size,output_dim)"
      ],
      "metadata": {
        "id": "ie46CmHAeAEK"
      },
      "execution_count": null,
      "outputs": []
    },
    {
      "cell_type": "code",
      "source": [
        "token_embeddings = token_embedding_layer(inputs)\n",
        "print(token_embeddings.shape)"
      ],
      "metadata": {
        "colab": {
          "base_uri": "https://localhost:8080/"
        },
        "id": "WpYHovwh5GZu",
        "outputId": "68e6ff84-2c14-4d62-c759-a119930dacda"
      },
      "execution_count": null,
      "outputs": [
        {
          "output_type": "stream",
          "name": "stdout",
          "text": [
            "torch.Size([8, 4, 256])\n"
          ]
        }
      ]
    },
    {
      "cell_type": "code",
      "source": [
        "positional_embeddings_layer = torch.nn.Embedding(vocab_size,output_dim)\n",
        "max_length = 4\n",
        "positional_embeddings = positional_embeddings_layer(torch.arange(0,max_length))\n"
      ],
      "metadata": {
        "id": "bv-FimcY6KUe"
      },
      "execution_count": null,
      "outputs": []
    },
    {
      "cell_type": "code",
      "source": [
        "positional_embeddings.shape"
      ],
      "metadata": {
        "colab": {
          "base_uri": "https://localhost:8080/"
        },
        "id": "YHex4gJ3jWAu",
        "outputId": "0afcc07a-c670-4322-9b2d-6877caacb687"
      },
      "execution_count": null,
      "outputs": [
        {
          "output_type": "execute_result",
          "data": {
            "text/plain": [
              "torch.Size([4, 256])"
            ]
          },
          "metadata": {},
          "execution_count": 19
        }
      ]
    },
    {
      "cell_type": "code",
      "source": [
        "input_embeddings = token_embeddings + positional_embeddings"
      ],
      "metadata": {
        "id": "D5ZKCguZjXVV"
      },
      "execution_count": null,
      "outputs": []
    },
    {
      "cell_type": "code",
      "source": [
        "print(f\"token embeddings 1st input in a batch of 8, 1 token of 4 tokens - {token_embeddings[0][0]}\")\n",
        "print(f\"positional embeddings  - {positional_embeddings[0]}\")\n",
        "\n",
        "\n",
        "print(f\"input embeddings {input_embeddings[0][0]}\")"
      ],
      "metadata": {
        "colab": {
          "base_uri": "https://localhost:8080/"
        },
        "id": "bvH5SgCtj8sW",
        "outputId": "69cf1c87-f091-4388-c5a9-10b790aed55c"
      },
      "execution_count": null,
      "outputs": [
        {
          "output_type": "stream",
          "name": "stdout",
          "text": [
            "token embeddings 1st input in a batch of 8, 1 token of 4 tokens - tensor([ 1.0296,  1.0401, -0.6771, -0.1172, -0.1241, -0.6753,  0.7377, -0.8750,\n",
            "         0.5776,  0.6321, -2.4552, -1.0972, -0.5282, -2.5859, -1.2853, -2.0105,\n",
            "        -0.0336, -0.5712,  0.9947,  0.0034, -0.3225, -0.4768,  0.0820, -0.1074,\n",
            "        -0.8671,  0.0381, -0.6371,  0.8613,  0.6639, -0.7763,  0.4961, -1.6497,\n",
            "         1.6120,  1.2321, -1.3022, -1.7662,  1.3133, -1.0494,  0.7037, -0.4601,\n",
            "        -2.3843,  0.8889,  1.0387,  0.1590, -0.4012,  0.4184,  1.3030, -0.7208,\n",
            "        -1.4654, -1.6223, -1.2178, -1.5378, -1.1688, -0.3031,  0.9016,  0.3586,\n",
            "        -0.0516, -1.7023, -0.0263, -0.8325,  0.0276,  0.4681,  1.0670,  0.0550,\n",
            "         1.6616,  0.0546, -1.0288,  1.4983,  0.3642, -0.5943,  0.7608,  0.3250,\n",
            "         0.4177,  0.5092, -0.0831, -0.2091, -1.4425,  0.2881, -0.6624, -2.3052,\n",
            "         0.6466,  1.2355, -0.8156,  0.4085, -0.9096, -0.0654, -1.1424,  0.7434,\n",
            "        -0.0183, -0.7447,  2.8265,  0.3470,  1.1333,  0.3251,  0.3037, -0.0438,\n",
            "        -0.0970, -0.1364,  0.0705,  0.2144, -1.9315, -0.6235, -0.5574,  0.0987,\n",
            "         0.4575,  0.3017, -0.0061, -0.4164, -0.0972, -0.0103, -0.4122,  0.1316,\n",
            "        -1.5801,  0.2754,  0.0753,  0.9426,  0.1502,  1.3439, -1.7277,  0.9295,\n",
            "        -1.3168,  0.0058, -1.1917,  0.6930, -0.1689,  0.4784,  0.5144,  0.0208,\n",
            "         0.1980,  0.2324, -0.2637,  1.4169, -1.2233,  0.4755, -0.9294, -0.0194,\n",
            "        -0.1358,  0.6220,  0.9926, -0.1732, -0.2583, -0.4495,  0.4689,  0.5686,\n",
            "         0.1526,  0.6529, -1.7035,  0.8719, -1.0898, -1.2522,  0.6023,  1.3951,\n",
            "        -0.6577,  0.0111, -1.6651,  0.3947,  0.9127, -1.4367, -0.9692,  0.4358,\n",
            "        -1.5203, -1.2454, -1.0430,  2.0490,  0.0452, -1.3612, -1.0010, -1.5704,\n",
            "         0.7351,  0.9965,  1.3470,  0.8069,  1.2306,  0.0265, -1.6214,  0.0918,\n",
            "         2.0122,  0.1204, -0.5510,  0.2728, -1.6312, -0.9199, -0.8883,  1.0776,\n",
            "        -0.3177,  0.2425,  0.0705, -0.1226, -0.6905,  0.0074, -0.1332,  1.3230,\n",
            "         1.3254,  0.4379, -0.6334, -1.3171,  2.0360,  0.5577, -0.5035, -0.3324,\n",
            "        -0.1636, -0.3403, -0.1831, -0.0427,  0.9389,  0.8523,  0.9604,  0.6947,\n",
            "        -1.8033,  0.5748,  1.2594,  1.5218,  1.7486,  0.6368,  0.3263,  0.0769,\n",
            "         1.4536, -0.8802,  0.9344,  0.2289,  1.1733,  0.0698, -1.3177,  0.2183,\n",
            "        -0.2173, -0.8539, -1.8478,  0.3312, -0.3717, -1.4246,  1.6596,  0.8682,\n",
            "         0.6457, -0.9789, -2.3298,  0.4581, -1.8186, -0.6636,  0.4533,  0.3093,\n",
            "         0.4339, -0.1133,  0.6880,  0.9556, -2.2880,  0.7464, -2.1897, -0.4828,\n",
            "        -1.3485,  0.6852,  0.3480,  1.8434, -0.0221, -0.2795, -0.2097,  0.5458],\n",
            "       grad_fn=<SelectBackward0>)\n",
            "positional embeddings  - tensor([ 1.0393, -0.8886,  0.2759, -2.2343,  1.5401, -1.6150,  0.7982, -0.1100,\n",
            "        -1.0635, -1.2183, -1.1452, -0.5623,  0.5335, -1.2546,  1.5026,  1.8762,\n",
            "         0.0496, -1.1463,  0.2289,  2.1927, -0.1624, -0.0426, -1.9696, -1.2673,\n",
            "        -0.2411, -0.9599,  1.6825,  1.1158, -0.0857,  0.5406, -1.2748,  0.4408,\n",
            "         0.1771, -1.0021, -0.3346,  1.0635,  1.5275,  0.6400,  0.7096, -0.4053,\n",
            "        -1.1342,  0.0105, -0.4163, -0.4690,  1.0784,  0.6279,  0.6821, -0.7939,\n",
            "        -1.5628,  0.9927, -0.3099,  0.2385, -0.8194,  1.1534,  0.3408,  0.0817,\n",
            "         1.5616,  1.0914,  1.4909, -0.9995,  1.3967,  1.8991, -1.1741,  1.2729,\n",
            "         0.6901, -0.1198,  0.3552, -0.4792, -1.2797,  1.6437, -0.0845,  1.4691,\n",
            "        -0.0395, -1.5436, -0.9520, -1.5774, -1.9951, -2.5346, -0.2776,  0.2755,\n",
            "         0.4785, -0.6837, -0.8433, -1.0531,  1.2214, -1.2706, -1.4395, -0.0955,\n",
            "         0.3687,  1.2509,  0.8547, -1.5731,  0.1357,  0.8256,  0.2308,  0.6419,\n",
            "         2.5092, -1.6691,  0.6545, -0.4008,  0.0682, -0.2144, -0.9690,  1.1971,\n",
            "        -0.1837, -2.4542, -1.4836,  0.8227,  0.4511, -0.9600,  1.7967,  0.9921,\n",
            "         0.8054,  0.8739,  1.2239, -0.3777, -0.3592, -0.4343,  0.2391,  1.8482,\n",
            "        -1.1302, -1.6304, -0.8264, -0.0214, -0.6040, -0.2403, -0.3356, -0.6969,\n",
            "         0.3318,  0.5675, -0.5115,  0.3613, -1.0930,  1.0747,  1.6464, -1.3017,\n",
            "         0.3590,  1.1181, -0.0896,  0.5660, -1.4059,  1.4993, -0.0215, -0.4992,\n",
            "        -1.1182,  0.3736,  1.0562, -0.2117, -1.2423,  0.1605,  0.8383, -1.2353,\n",
            "         0.2326, -0.7229,  0.5340,  0.2949,  1.1537, -0.2044,  0.1935, -0.9946,\n",
            "        -1.2513, -0.4659,  1.0550,  1.4182,  0.6045,  0.6967, -1.2007, -0.3560,\n",
            "         0.7869, -0.4216, -0.3345, -0.6292,  0.2431, -0.3584, -0.0202, -0.1013,\n",
            "         1.5297,  0.2371, -0.5825, -0.6986,  0.4669, -0.3351,  1.4222, -1.8579,\n",
            "         1.8047, -0.9757, -0.6137, -0.0448, -0.1163, -1.0168, -0.9240, -1.6103,\n",
            "        -0.8710, -1.2152, -1.1336,  0.2867,  1.0808, -1.6718, -1.6052,  0.4050,\n",
            "         0.8659,  0.2054, -1.5028,  0.5155,  0.6235,  0.7327,  0.9753,  0.0644,\n",
            "         0.4542,  0.8074,  1.0282, -0.3612, -0.1266,  0.3537,  0.5813,  0.7228,\n",
            "        -0.2494, -0.4005, -0.0176, -0.4630, -0.3167, -0.1068,  0.3450, -0.3752,\n",
            "         0.6908, -1.2151,  1.0370, -1.5009,  1.1843,  0.2019, -0.7127,  0.0150,\n",
            "         1.2248, -0.1265,  0.5120, -0.2269,  0.7373,  0.8313, -0.6958, -0.6999,\n",
            "        -1.3040, -0.1822,  2.2456, -0.7928, -0.5498,  0.3602,  1.0993,  1.1259,\n",
            "        -1.6021,  1.9632,  0.8335, -0.1888,  0.4246, -0.6072,  0.5065, -1.1264],\n",
            "       grad_fn=<SelectBackward0>)\n",
            "input embeddings tensor([ 2.0689,  0.1515, -0.4012, -2.3515,  1.4160, -2.2903,  1.5359, -0.9850,\n",
            "        -0.4859, -0.5862, -3.6004, -1.6595,  0.0053, -3.8405,  0.2173, -0.1342,\n",
            "         0.0160, -1.7175,  1.2236,  2.1961, -0.4849, -0.5194, -1.8876, -1.3747,\n",
            "        -1.1082, -0.9218,  1.0454,  1.9771,  0.5782, -0.2357, -0.7788, -1.2090,\n",
            "         1.7891,  0.2300, -1.6368, -0.7027,  2.8409, -0.4093,  1.4134, -0.8654,\n",
            "        -3.5185,  0.8995,  0.6224, -0.3100,  0.6772,  1.0463,  1.9851, -1.5147,\n",
            "        -3.0282, -0.6296, -1.5277, -1.2993, -1.9882,  0.8503,  1.2424,  0.4403,\n",
            "         1.5100, -0.6109,  1.4646, -1.8320,  1.4243,  2.3672, -0.1071,  1.3279,\n",
            "         2.3517, -0.0652, -0.6737,  1.0190, -0.9154,  1.0494,  0.6762,  1.7941,\n",
            "         0.3782, -1.0344, -1.0351, -1.7865, -3.4376, -2.2465, -0.9400, -2.0296,\n",
            "         1.1251,  0.5519, -1.6589, -0.6447,  0.3118, -1.3360, -2.5819,  0.6479,\n",
            "         0.3504,  0.5062,  3.6812, -1.2261,  1.2690,  1.1507,  0.5345,  0.5981,\n",
            "         2.4122, -1.8055,  0.7250, -0.1864, -1.8633, -0.8379, -1.5265,  1.2958,\n",
            "         0.2738, -2.1526, -1.4897,  0.4063,  0.3540, -0.9703,  1.3844,  1.1237,\n",
            "        -0.7748,  1.1494,  1.2991,  0.5650, -0.2090,  0.9096, -1.4886,  2.7777,\n",
            "        -2.4470, -1.6245, -2.0180,  0.6716, -0.7729,  0.2381,  0.1787, -0.6762,\n",
            "         0.5298,  0.8000, -0.7752,  1.7782, -2.3163,  1.5502,  0.7170, -1.3212,\n",
            "         0.2233,  1.7402,  0.9030,  0.3927, -1.6642,  1.0498,  0.4474,  0.0694,\n",
            "        -0.9656,  1.0266, -0.6473,  0.6602, -2.3321, -1.0917,  1.4407,  0.1598,\n",
            "        -0.4252, -0.7118, -1.1311,  0.6897,  2.0664, -1.6411, -0.7756, -0.5588,\n",
            "        -2.7716, -1.7113,  0.0120,  3.4672,  0.6497, -0.6645, -2.2016, -1.9265,\n",
            "         1.5220,  0.5749,  1.0125,  0.1777,  1.4737, -0.3319, -1.6416, -0.0094,\n",
            "         3.5419,  0.3574, -1.1334, -0.4258, -1.1643, -1.2550,  0.5339, -0.7803,\n",
            "         1.4870, -0.7332, -0.5432, -0.1674, -0.8067, -1.0094, -1.0572, -0.2873,\n",
            "         0.4544, -0.7772, -1.7669, -1.0304,  3.1169, -1.1141, -2.1087,  0.0726,\n",
            "         0.7023, -0.1350, -1.6859,  0.4728,  1.5624,  1.5850,  1.9357,  0.7591,\n",
            "        -1.3490,  1.3822,  2.2876,  1.1606,  1.6219,  0.9905,  0.9076,  0.7997,\n",
            "         1.2042, -1.2807,  0.9167, -0.2341,  0.8566, -0.0370, -0.9728, -0.1568,\n",
            "         0.4735, -2.0689, -0.8108, -1.1697,  0.8125, -1.2228,  0.9469,  0.8832,\n",
            "         1.8705, -1.1054, -1.8178,  0.2312, -1.0813,  0.1677, -0.2425, -0.3906,\n",
            "        -0.8701, -0.2955,  2.9336,  0.1627, -2.8377,  1.1066, -1.0904,  0.6431,\n",
            "        -2.9506,  2.6484,  1.1815,  1.6546,  0.4025, -0.8867,  0.2968, -0.5806],\n",
            "       grad_fn=<SelectBackward0>)\n"
          ]
        }
      ]
    },
    {
      "cell_type": "code",
      "source": [
        "input_embeddings.shape"
      ],
      "metadata": {
        "colab": {
          "base_uri": "https://localhost:8080/"
        },
        "id": "6XHOWDghkT7c",
        "outputId": "a72f861c-1c1b-4b8d-a7fc-826235b5cc24"
      },
      "execution_count": null,
      "outputs": [
        {
          "output_type": "execute_result",
          "data": {
            "text/plain": [
              "torch.Size([8, 4, 256])"
            ]
          },
          "metadata": {},
          "execution_count": 22
        }
      ]
    },
    {
      "cell_type": "markdown",
      "source": [
        "# **coding self attention**"
      ],
      "metadata": {
        "id": "Daw19t5NleF1"
      }
    },
    {
      "cell_type": "code",
      "source": [
        "input_text_sf = \"your journey starts with one step\"\n",
        "tokenizer_sf = tiktoken.get_encoding('gpt2')\n",
        "token_ids_sf = tokenizer.encode(input_text_sf)\n",
        "print(token_ids_sf)"
      ],
      "metadata": {
        "colab": {
          "base_uri": "https://localhost:8080/"
        },
        "id": "9cubx6OCkZMr",
        "outputId": "66756c79-bcce-43e3-8281-d3b69b5360f1"
      },
      "execution_count": null,
      "outputs": [
        {
          "output_type": "stream",
          "name": "stdout",
          "text": [
            "[14108, 7002, 4940, 351, 530, 2239]\n"
          ]
        }
      ]
    },
    {
      "cell_type": "code",
      "source": [
        "token_embedding_layer_sf = torch.nn.Embedding(num_embeddings=vocab_size,embedding_dim=3 )"
      ],
      "metadata": {
        "id": "19m-vlqPnv34"
      },
      "execution_count": null,
      "outputs": []
    },
    {
      "cell_type": "code",
      "source": [
        "token_embeddings_sf = token_embedding_layer_sf(torch.tensor(token_ids_sf))\n",
        "token_embeddings_sf.shape"
      ],
      "metadata": {
        "colab": {
          "base_uri": "https://localhost:8080/"
        },
        "id": "vcarmOOumq8C",
        "outputId": "190bf6aa-3950-4b78-adf0-01ba91dc8dd8"
      },
      "execution_count": null,
      "outputs": [
        {
          "output_type": "execute_result",
          "data": {
            "text/plain": [
              "torch.Size([6, 3])"
            ]
          },
          "metadata": {},
          "execution_count": 25
        }
      ]
    },
    {
      "cell_type": "code",
      "source": [
        "max_length_sf = 6\n",
        "positional_embedding_layer_sf = torch.nn.Embedding(num_embeddings=vocab_size, embedding_dim=3)\n",
        "positional_embeddings_sf = positional_embedding_layer_sf(torch.arange(0,max_length_sf))\n",
        "positional_embeddings_sf.shape"
      ],
      "metadata": {
        "colab": {
          "base_uri": "https://localhost:8080/"
        },
        "id": "SKGNvTYZm4gB",
        "outputId": "d6fa86c4-37c9-408f-b49d-7d84443e892d"
      },
      "execution_count": null,
      "outputs": [
        {
          "output_type": "execute_result",
          "data": {
            "text/plain": [
              "torch.Size([6, 3])"
            ]
          },
          "metadata": {},
          "execution_count": 26
        }
      ]
    },
    {
      "cell_type": "code",
      "source": [
        "input_embeddings_sf = token_embeddings_sf + positional_embeddings_sf"
      ],
      "metadata": {
        "id": "d9ggKRTAnVGx"
      },
      "execution_count": null,
      "outputs": []
    },
    {
      "cell_type": "code",
      "source": [
        "input_embeddings_sf.shape"
      ],
      "metadata": {
        "colab": {
          "base_uri": "https://localhost:8080/"
        },
        "id": "nwcIe_knnanB",
        "outputId": "c019e3e4-17ef-4998-e4c9-6b34af76bd65"
      },
      "execution_count": null,
      "outputs": [
        {
          "output_type": "execute_result",
          "data": {
            "text/plain": [
              "torch.Size([6, 3])"
            ]
          },
          "metadata": {},
          "execution_count": 28
        }
      ]
    },
    {
      "cell_type": "code",
      "source": [
        "input_embeddings_sf\n"
      ],
      "metadata": {
        "colab": {
          "base_uri": "https://localhost:8080/"
        },
        "id": "GwBkr1vundo4",
        "outputId": "21bd41f2-c504-48d6-9a6e-7b8f9154f131"
      },
      "execution_count": null,
      "outputs": [
        {
          "output_type": "execute_result",
          "data": {
            "text/plain": [
              "tensor([[-1.0265,  0.8756,  1.1912],\n",
              "        [-1.3094, -1.4912,  1.0598],\n",
              "        [ 1.4443, -0.7874, -0.7694],\n",
              "        [-0.0126, -0.6046,  0.5222],\n",
              "        [ 0.2599, -0.5985, -0.6705],\n",
              "        [-1.1020,  0.6097,  1.0864]], grad_fn=<AddBackward0>)"
            ]
          },
          "metadata": {},
          "execution_count": 29
        }
      ]
    },
    {
      "cell_type": "code",
      "source": [
        "import torch\n",
        "inputs = torch.tensor(\n",
        "  [[0.43, 0.15, 0.89], # Your     (x^1)\n",
        "   [0.55, 0.87, 0.66], # journey  (x^2)\n",
        "   [0.57, 0.85, 0.64], # starts   (x^3)\n",
        "   [0.22, 0.58, 0.33], # with     (x^4)\n",
        "   [0.77, 0.25, 0.10], # one      (x^5)\n",
        "   [0.05, 0.80, 0.55]] # step     (x^6)\n",
        ")"
      ],
      "metadata": {
        "id": "zRTjLBWznfzR"
      },
      "execution_count": null,
      "outputs": []
    },
    {
      "cell_type": "code",
      "source": [
        "# USING for loops\n",
        "attention_scores = torch.empty(6,6)\n",
        "for i, x_i in enumerate(inputs):\n",
        "  for j, x_j in enumerate(inputs):\n",
        "    attention_scores[i,j] = torch.dot(x_i, x_j)\n"
      ],
      "metadata": {
        "id": "oMS8VSOPpewa"
      },
      "execution_count": null,
      "outputs": []
    },
    {
      "cell_type": "code",
      "source": [
        "#instead of doing for loops. pytorch gives efficient way of multiplying these matrices (computing attention scores)\n",
        "\n",
        "attention_scores = inputs @ inputs.T"
      ],
      "metadata": {
        "id": "7uicpgCvuzA6"
      },
      "execution_count": null,
      "outputs": []
    },
    {
      "cell_type": "code",
      "source": [
        "attention_scores"
      ],
      "metadata": {
        "colab": {
          "base_uri": "https://localhost:8080/"
        },
        "id": "y9VIAIF9vG3H",
        "outputId": "7bfe68ff-5610-4f81-c5a7-207feb94a357"
      },
      "execution_count": null,
      "outputs": [
        {
          "output_type": "execute_result",
          "data": {
            "text/plain": [
              "tensor([[0.9995, 0.9544, 0.9422, 0.4753, 0.4576, 0.6310],\n",
              "        [0.9544, 1.4950, 1.4754, 0.8434, 0.7070, 1.0865],\n",
              "        [0.9422, 1.4754, 1.4570, 0.8296, 0.7154, 1.0605],\n",
              "        [0.4753, 0.8434, 0.8296, 0.4937, 0.3474, 0.6565],\n",
              "        [0.4576, 0.7070, 0.7154, 0.3474, 0.6654, 0.2935],\n",
              "        [0.6310, 1.0865, 1.0605, 0.6565, 0.2935, 0.9450]])"
            ]
          },
          "metadata": {},
          "execution_count": 61
        }
      ]
    },
    {
      "cell_type": "code",
      "source": [
        "attention_scores"
      ],
      "metadata": {
        "colab": {
          "base_uri": "https://localhost:8080/"
        },
        "id": "Mp662Cknp09d",
        "outputId": "42093414-239c-49d4-c0e1-be99e9b9f881"
      },
      "execution_count": null,
      "outputs": [
        {
          "output_type": "execute_result",
          "data": {
            "text/plain": [
              "tensor([[0.9995, 0.9544, 0.9422, 0.4753, 0.4576, 0.6310],\n",
              "        [0.9544, 1.4950, 1.4754, 0.8434, 0.7070, 1.0865],\n",
              "        [0.9422, 1.4754, 1.4570, 0.8296, 0.7154, 1.0605],\n",
              "        [0.4753, 0.8434, 0.8296, 0.4937, 0.3474, 0.6565],\n",
              "        [0.4576, 0.7070, 0.7154, 0.3474, 0.6654, 0.2935],\n",
              "        [0.6310, 1.0865, 1.0605, 0.6565, 0.2935, 0.9450]])"
            ]
          },
          "metadata": {},
          "execution_count": 51
        }
      ]
    },
    {
      "cell_type": "code",
      "source": [
        "#now we have to normalize them so that there will be training stability\n",
        "# we can do averages.\n",
        "# but the most efficient way to do normalization is using softmax (our own softmax code) or pytorch softmax code -as it can handle the task more efficiently - making sure that the number overflow and other issues wont occur\n",
        "attention_weights = torch.softmax(attention_scores, dim=-1)\n",
        "#if we"
      ],
      "metadata": {
        "id": "k0OqKqy3rIEG"
      },
      "execution_count": null,
      "outputs": []
    },
    {
      "cell_type": "code",
      "source": [
        "attention_weights\n",
        "# if we add up the attention weights - it will give you 1"
      ],
      "metadata": {
        "colab": {
          "base_uri": "https://localhost:8080/"
        },
        "id": "Q0wO1GFzr_fN",
        "outputId": "011225d2-9733-41e1-d73c-b585b77177d2"
      },
      "execution_count": null,
      "outputs": [
        {
          "output_type": "execute_result",
          "data": {
            "text/plain": [
              "tensor([[0.2098, 0.2006, 0.1981, 0.1242, 0.1220, 0.1452],\n",
              "        [0.1385, 0.2379, 0.2333, 0.1240, 0.1082, 0.1581],\n",
              "        [0.1390, 0.2369, 0.2326, 0.1242, 0.1108, 0.1565],\n",
              "        [0.1435, 0.2074, 0.2046, 0.1462, 0.1263, 0.1720],\n",
              "        [0.1526, 0.1958, 0.1975, 0.1367, 0.1879, 0.1295],\n",
              "        [0.1385, 0.2184, 0.2128, 0.1420, 0.0988, 0.1896]])"
            ]
          },
          "metadata": {},
          "execution_count": 53
        }
      ]
    },
    {
      "cell_type": "code",
      "source": [
        "attention_weights.sum(dim=-1)"
      ],
      "metadata": {
        "colab": {
          "base_uri": "https://localhost:8080/"
        },
        "id": "XW0gd4uYsD1D",
        "outputId": "27ff87b2-1d27-476c-fabb-90082a3d8214"
      },
      "execution_count": null,
      "outputs": [
        {
          "output_type": "execute_result",
          "data": {
            "text/plain": [
              "tensor([1.0000, 1.0000, 1.0000, 1.0000, 1.0000, 1.0000])"
            ]
          },
          "metadata": {},
          "execution_count": 56
        }
      ]
    },
    {
      "cell_type": "code",
      "source": [
        "# Now we have to calculate context vector for each token using attention weights and the input vectors.\n",
        " # (remember these attention weights are calculated using the dot product of the current input vector with all the other vectors - which in turn have positional information encodede and also the initialized token embeddings )\n",
        "\n",
        "context_vector = attention_weights @ inputs\n",
        "\n",
        "\n"
      ],
      "metadata": {
        "id": "uTpfxuYwsQAM"
      },
      "execution_count": null,
      "outputs": []
    },
    {
      "cell_type": "code",
      "source": [
        "context_vector"
      ],
      "metadata": {
        "colab": {
          "base_uri": "https://localhost:8080/"
        },
        "id": "izZe9cY8uQWT",
        "outputId": "700f84b6-041c-4c84-b450-e9497046d523"
      },
      "execution_count": null,
      "outputs": [
        {
          "output_type": "execute_result",
          "data": {
            "text/plain": [
              "tensor([[0.4421, 0.5931, 0.5790],\n",
              "        [0.4419, 0.6515, 0.5683],\n",
              "        [0.4431, 0.6496, 0.5671],\n",
              "        [0.4304, 0.6298, 0.5510],\n",
              "        [0.4671, 0.5910, 0.5266],\n",
              "        [0.4177, 0.6503, 0.5645]])"
            ]
          },
          "metadata": {},
          "execution_count": 59
        }
      ]
    }
  ],
  "metadata": {
    "colab": {
      "provenance": [],
      "gpuType": "T4",
      "authorship_tag": "ABX9TyNKcXzxgQo7y21UWWY2fcbS",
      "include_colab_link": true
    },
    "kernelspec": {
      "display_name": "Python 3",
      "name": "python3"
    },
    "language_info": {
      "name": "python"
    },
    "accelerator": "GPU"
  },
  "nbformat": 4,
  "nbformat_minor": 0
}